{
 "cells": [
  {
   "cell_type": "markdown",
   "metadata": {},
   "source": [
    "# Password Entropy Analysis\n",
    "*Analysing the entropy and cryptographic security of various password creating methodologies*\n",
    "\n",
    "## Diceware\n",
    "Dice passwords are a password strategy that uses the highly random number generating characteristics of a fair dice throw. These passwords can use true entropy analysis because the generation of these classes of passwords doesn't have a human element. Even the word list choice can't use human bias in the password cracking strategy because randomness selects which word to use, so entropy is the deciding factor in cracking these passwords. The trick is to make sure that the list generates memorable passwords that have large permutations. Let's look at 4 & 5 dice toss word lists"
   ]
  },
  {
   "cell_type": "code",
   "execution_count": 2,
   "metadata": {
    "ExecuteTime": {
     "end_time": "2017-09-09T17:08:08.819880Z",
     "start_time": "2017-09-09T17:08:08.812281Z"
    }
   },
   "outputs": [
    {
     "name": "stdout",
     "output_type": "stream",
     "text": [
      "4-Dice-Throw combinations: 1296, has entropy of: 10.3398500029\n",
      "5-Dice-Throw combinations: 7776, has entropy of: 12.9248125036\n",
      "4-Dice-Throw combinations: 46656, has entropy of: 15.5097750043\n"
     ]
    }
   ],
   "source": [
    "import numpy as np\n",
    "dice4 = 6**4\n",
    "dice5 = 6**5\n",
    "dice6 = 6**6\n",
    "\n",
    "print(\"4-Dice-Throw combinations: \" + str(dice4) + \", has entropy of: \" + str(np.log2(dice4)))\n",
    "print(\"5-Dice-Throw combinations: \" + str(dice5) + \", has entropy of: \" + str(np.log2(dice5)))\n",
    "print(\"4-Dice-Throw combinations: \" + str(dice6) + \", has entropy of: \" + str(np.log2(dice6)))\n"
   ]
  },
  {
   "cell_type": "markdown",
   "metadata": {},
   "source": [
    "Four, five and six dice throw generated passwords will have 1296, 7776, 46656, permutations respectively. This results in 10.3, 12.9, 15.5 bits of entropy respectively. Going by what can somewhat reasonably be acheived with consumer hardware, a hash-rate of 350 GH/s as a benchmark for how strong these passwords are, let's set a minimum number of hashes it would take to crack these passwords. 350 GH/s means that a hacker who's stolen a password hash during their operations would have to run an expensive computer (about 5000USD) nonstop one second to test 350 billion permutations, so a password that is considered strong should be able to force a hacker to run this cracking procedure for at least a month before half the possible permutations have been attempted by this computer. This is assuming passwords get changed at least once a month. Below is the number of hashes this would amount to "
   ]
  },
  {
   "cell_type": "code",
   "execution_count": 4,
   "metadata": {
    "ExecuteTime": {
     "end_time": "2017-09-09T17:19:39.905502Z",
     "start_time": "2017-09-09T17:19:39.898847Z"
    }
   },
   "outputs": [
    {
     "data": {
      "text/plain": [
       "0.9072"
      ]
     },
     "execution_count": 4,
     "metadata": {},
     "output_type": "execute_result"
    }
   ],
   "source": [
    "hash_rate = 350 * 10**9\n",
    "seconds_month = 60 * 60 * 24 * 30\n",
    "hashes_month = seconds_month * hash_rate\n",
    "exahashes_month = hashes_month / (10**18)\n",
    "exahashes_month"
   ]
  },
  {
   "cell_type": "markdown",
   "metadata": {},
   "source": [
    "This amounts to nearly one exa-hash per month, or $10^{18}$ permutations that can be attempted. Also, remember that this is probabilistic, it's very likely that the combination will be reached by chance before then, so at least twice this many permutations should be aimed for for a password strategy. So how many dice throws would this amount to? Well, the number of permutations generated per dice throw is $6^d$, hash-rate is denoted by $R$, so then the problem becomes a simple rate problem for duration $t$ to try 50% of all permutations of a password:\n",
    "$$ t = \\frac{6^d}{2R} \\rightarrow d(t) = log_6(2Rt) $$\n",
    "So, to get the number of dice tosses to satisfy the requirement of this powerful consumer computer being able to only attempt half of all possible password combinations over a month, the below code figures out the number of dice tosses requried to satisfy that requirement."
   ]
  },
  {
   "cell_type": "code",
   "execution_count": 6,
   "metadata": {
    "ExecuteTime": {
     "end_time": "2017-09-09T17:45:27.632271Z",
     "start_time": "2017-09-09T17:45:27.626676Z"
    }
   },
   "outputs": [
    {
     "data": {
      "text/plain": [
       "23.464246864874799"
      ]
     },
     "execution_count": 6,
     "metadata": {},
     "output_type": "execute_result"
    }
   ],
   "source": [
    "log6 = lambda x: np.log(x) / np.log(6)\n",
    "dice_throws_month = log6(2 * hashes_month)\n",
    "dice_throws_month"
   ]
  },
  {
   "cell_type": "markdown",
   "metadata": {},
   "source": [
    "This means that about 24 dice throws would be needed in-order to have a high assurance that the password generated from those dice throws won't be cracked in under a month. So what remains, is to figure out what combination of memorability of each word in a given wordlist, and how many of them in a password string would be ideal to satisfy this requirement. Fortunately 24 is an easily divisible number, so let's look at the 3 and 4 dice throw generated lists for possible strategies since they're divisible. Only using three dice throws per word in a list would result in 216 words, and four results in 1296. Both of those result in lists of words that are pretty easy to populate with memorable words, so let's go with 4 dice tosses per word, that would mean that 6 dice tosses would be required to ensure that only half the password combinations could be attempted by this powerful computer in a month.\n",
    "\n",
    "What if 1 month, isn't good enough? Say the password being created should be expected to be used safely for half a year because changing every month might be less desirable than having to remember longer ones. What kind of dice password should be used?"
   ]
  },
  {
   "cell_type": "code",
   "execution_count": 8,
   "metadata": {
    "ExecuteTime": {
     "end_time": "2017-09-09T18:51:08.460234Z",
     "start_time": "2017-09-09T18:51:08.454775Z"
    }
   },
   "outputs": [
    {
     "data": {
      "text/plain": [
       "24.464246864874799"
      ]
     },
     "execution_count": 8,
     "metadata": {},
     "output_type": "execute_result"
    }
   ],
   "source": [
    "hashes_6month = 6 * hashes_month\n",
    "dice_throws_6month = log6(2 * hashes_6month)\n",
    "dice_throws_6month"
   ]
  },
  {
   "cell_type": "markdown",
   "metadata": {},
   "source": [
    "As it turns out, at this point the level of exponential increase is so large that only increasing the dice throw by 1 allows for six months of safety instead of the 1 month of a 24 dice throw password. That becomes a pretty easy to make tradeoff to increase security that much, so let's try a wordlist using 5 dice throws, and using 5 of them in one password string instead."
   ]
  }
 ],
 "metadata": {
  "hide_input": false,
  "kernelspec": {
   "display_name": "Python 3",
   "language": "python",
   "name": "python3"
  },
  "language_info": {
   "codemirror_mode": {
    "name": "ipython",
    "version": 3
   },
   "file_extension": ".py",
   "mimetype": "text/x-python",
   "name": "python",
   "nbconvert_exporter": "python",
   "pygments_lexer": "ipython3",
   "version": "3.6.1"
  },
  "varInspector": {
   "cols": {
    "lenName": 16,
    "lenType": 16,
    "lenVar": 40
   },
   "kernels_config": {
    "python": {
     "delete_cmd_postfix": "",
     "delete_cmd_prefix": "del ",
     "library": "var_list.py",
     "varRefreshCmd": "print(var_dic_list())"
    },
    "r": {
     "delete_cmd_postfix": ") ",
     "delete_cmd_prefix": "rm(",
     "library": "var_list.r",
     "varRefreshCmd": "cat(var_dic_list()) "
    }
   },
   "types_to_exclude": [
    "module",
    "function",
    "builtin_function_or_method",
    "instance",
    "_Feature"
   ],
   "window_display": false
  }
 },
 "nbformat": 4,
 "nbformat_minor": 2
}
